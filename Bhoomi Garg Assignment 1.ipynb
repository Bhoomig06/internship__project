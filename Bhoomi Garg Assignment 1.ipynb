{
 "cells": [
  {
   "cell_type": "markdown",
   "id": "f77db7be",
   "metadata": {},
   "source": [
    "ASSIGNMENT 1"
   ]
  },
  {
   "cell_type": "code",
   "execution_count": null,
   "id": "b68c2c7a",
   "metadata": {},
   "outputs": [],
   "source": [
    "####Ans 1 A class is a blueprint for creating objects. It defines property and behaviour whereas object is an instance of class.\n",
    "        # A class define the structure and objects are actual instance that use that structure to store data\n",
    "\n",
    "        class Book:\n",
    "            def __init__(self, title, author, year_published):\n",
    "                self.title = title\n",
    "                self.author = author\n",
    "                self.year_published = year_published\n",
    "        book1 = Book(1984, \"George orwell, 1949\")\n",
    "        print(book1.title, book1.author, book1.year_published)\n"
   ]
  },
  {
   "cell_type": "code",
   "execution_count": null,
   "id": "645cc346",
   "metadata": {},
   "outputs": [],
   "source": [
    "####Ans 2 Inheritance allows a class to acquire properties and methods of another class promoting code reuse\n",
    "#Increase complexity\n",
    "\n",
    "class vehicle:\n",
    "    def move(self):\n",
    "        printg(\"vehicle is moving\")\n",
    "\n",
    "class car(vehicle):\n",
    "    def move(self):\n",
    "        print(\"car is driving\")\n",
    "\n",
    "class bike(vehicle):\n",
    "    def move(self):\n",
    "        print(\"bike is riding\")"
   ]
  },
  {
   "cell_type": "code",
   "execution_count": null,
   "id": "fa5d8699",
   "metadata": {},
   "outputs": [],
   "source": [
    "####Ans 3 Polymorphism allow different classes to be treated as the same interface,implemented thought- \n",
    "# Method overriding-same method name different behavior in subclass\n",
    "# Method overloading-can use default arguments\n",
    "\n",
    "def move_vehicle(vehicle):\n",
    "    vehicle.move()\n",
    "\n",
    "    class Boat:\n",
    "        def move(self):\n",
    "            print(\"Boat is sailing\")\n",
    "\n",
    "    class Airplane:\n",
    "        def move(self):\n",
    "            print(\"Airplane is flying\")"
   ]
  },
  {
   "cell_type": "code",
   "execution_count": null,
   "id": "c494e64d",
   "metadata": {},
   "outputs": [],
   "source": [
    "####Ans 4 Instance methods: Access instance (self) and class data.\n",
    "#Class methods: Use @classmethod, access class data (cls), not instance data.\n",
    "#Static methods: Use @staticmethod, don’t access class or instance data.\n",
    "\n",
    "class Calculator:\n",
    "    \n",
    "    def multiply(a, b):\n",
    "        return a * b\n",
    "\n",
    "    \n",
    "    def from_values(cls, values):\n",
    "        return cls.multiply(values[0], values[1])\n",
    "\n",
    "print(Calculator.multiply(4, 5))\n",
    "print(Calculator.from_values([4, 5]))"
   ]
  },
  {
   "cell_type": "code",
   "execution_count": null,
   "id": "c76d8fae",
   "metadata": {},
   "outputs": [],
   "source": [
    "#####Ans 5 Encapsulation restricts access to internal variable and methods\n",
    "#Public\n",
    "#Protected\n",
    "#Private\n",
    "\n",
    "class Person:\n",
    "    def __init__(self, name, age):\n",
    "        self.__name = name\n",
    "        self.__age = age\n",
    "\n",
    "    def get_name(self):\n",
    "        return self.__name\n",
    "\n",
    "    def set_name(self, name):\n",
    "        self.__name = name\n",
    "\n",
    "    def get_age(self):\n",
    "        return self.__age\n",
    "\n",
    "    def set_age(self, age):\n",
    "        self.__age = age\n",
    "\n",
    "p = Person(\"Bhoomi\", 21)\n",
    "print(p.get_name(), p.get_age())\n"
   ]
  },
  {
   "cell_type": "code",
   "execution_count": null,
   "id": "3cc83625",
   "metadata": {},
   "outputs": [],
   "source": [
    "####Ans 6 __init__ is the constructor method used to initialize new objects. It's called automatically when an object is created.\n",
    "#Differs from other methods because it's automatically triggered during object creation.\n",
    "\n",
    "class Product:\n",
    "    def __init__(self, name, price):\n",
    "        self.name = name\n",
    "        self.price = price\n",
    "\n",
    "    def display(self):\n",
    "        print(f\"Product: {self.name}, Price: {self.price}\")\n",
    "\n",
    "p = Product(\"Laptop\", 75000)\n",
    "p.display()"
   ]
  },
  {
   "cell_type": "code",
   "execution_count": null,
   "id": "38656ab6",
   "metadata": {},
   "outputs": [],
   "source": [
    "####Ans 7 Python supports multiple inheritance, allowing a class to inherit from multiple base classes.\n",
    "#To resolve conflicts (like method name clashes), Python uses Method Resolution Order (MRO), which determines the order in which base classes are searched.\n",
    "#Use super() to follow the MRO and ensure predictable behavior.\n",
    "\n",
    "class Appliance:\n",
    "    def operate(self):\n",
    "        print(\"Appliance is operating\")\n",
    "\n",
    "class Electronic:\n",
    "    def operate(self):\n",
    "        print(\"Electronic is functioning\")\n",
    "\n",
    "class SmartFridge(Appliance, Electronic):\n",
    "    def operate(self):\n",
    "        super().operate()  # Follows MRO\n",
    "\n",
    "fridge = SmartFridge()\n",
    "fridge.operate()\n",
    "\n",
    "# Check MRO\n",
    "print(SmartFridge.__mro__)"
   ]
  },
  {
   "cell_type": "code",
   "execution_count": null,
   "id": "f51f1f2d",
   "metadata": {},
   "outputs": [],
   "source": [
    "####Ans 8 Magic methods (like __init__, __str__, __eq__, __lt__) start and end with double underscores.\n",
    "#They customize class behavior — e.g., operator overloading, printing objects, comparisons, etc.\n",
    "\n",
    "class Book:\n",
    "    def __init__(self, title, year_published):\n",
    "        self.title = title\n",
    "        self.year_published = year_published\n",
    "\n",
    "    def __eq__(self, other):\n",
    "        return self.year_published == other.year_published\n",
    "\n",
    "    def __lt__(self, other):\n",
    "        return self.year_published < other.year_published\n",
    "\n",
    "book1 = Book(\"Book A\", 2000)\n",
    "book2 = Book(\"Book B\", 2010)\n",
    "\n",
    "print(book1 == book2)  # False\n",
    "print(book1 < book2)   # True"
   ]
  },
  {
   "cell_type": "code",
   "execution_count": null,
   "id": "3f54503c",
   "metadata": {},
   "outputs": [],
   "source": [
    "####Ans 9 Inheritance: is a relationship; a class inherits attributes and methods from a parent class.\n",
    "#Composition: has a relationship; one class contains an instance of another class.\n",
    "#Use composition when behavior should be included dynamically or you want to avoid tight coupling.\n",
    "\n",
    "class Engine:\n",
    "    def start(self):\n",
    "        print(\"Engine started\")\n",
    "\n",
    "class Truck:\n",
    "    def __init__(self):\n",
    "        self.engine = Engine()  # Composition\n",
    "\n",
    "    def start_truck(self):\n",
    "        self.engine.start()\n",
    "\n",
    "truck = Truck()\n",
    "truck.start_truck()"
   ]
  },
  {
   "cell_type": "code",
   "execution_count": null,
   "id": "a3153bf5",
   "metadata": {},
   "outputs": [],
   "source": [
    "####Ans 10 Property is used to define getter methods to access attributes like properties (without parentheses).\n",
    "#Helps in data encapsulation and controlled access. \n",
    "\n",
    "class Circle:\n",
    "    def __init__(self, radius):\n",
    "        self._radius = radius\n",
    "\n",
    "    \n",
    "    def diameter(self):\n",
    "        return 2 * self._radius\n",
    "\n",
    "    \n",
    "    def area(self):\n",
    "        return 3.1416 * (self._radius ** 2)\n",
    "\n",
    "c = Circle(5)\n",
    "print(\"Diameter:\", c.diameter)\n",
    "print(\"Area:\", c.area)"
   ]
  }
 ],
 "metadata": {
  "kernelspec": {
   "display_name": "Python 3",
   "language": "python",
   "name": "python3"
  },
  "language_info": {
   "codemirror_mode": {
    "name": "ipython",
    "version": 3
   },
   "file_extension": ".py",
   "mimetype": "text/x-python",
   "name": "python",
   "nbconvert_exporter": "python",
   "pygments_lexer": "ipython3",
   "version": "3.11.5"
  }
 },
 "nbformat": 4,
 "nbformat_minor": 5
}
