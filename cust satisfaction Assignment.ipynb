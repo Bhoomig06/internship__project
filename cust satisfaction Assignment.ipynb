{
 "cells": [
  {
   "cell_type": "code",
   "execution_count": null,
   "id": "0aab5318",
   "metadata": {},
   "outputs": [],
   "source": [
    "import pandas as pd\n",
    "from sklearn.model_selection import train_test_split\n",
    "from sklearn.preprocessing import LabelEncoder\n",
    "from sklearn.ensemble import RandomForestClassifier\n",
    "from sklearn.metrics import classification_report, accuracy_score, confusion_matrix\n",
    "df = pd.read_csv(\"cust_satisfaction.csv\")\n"
   ]
  },
  {
   "cell_type": "code",
   "execution_count": null,
   "id": "7a89413e",
   "metadata": {},
   "outputs": [],
   "source": [
    "df = df.dropna()\n",
    "label_encoders = {}\n",
    "categorical_cols = ['Gender', 'Customer type', 'Type of travel', 'Class', 'Satisfaction']\n",
    "for col in categorical_cols:\n",
    "    ls = LabelEncoder()\n",
    "    df[col] = ls.fit_transform(df[col])\n",
    "    label_encoders[col] = ls"
   ]
  },
  {
   "cell_type": "code",
   "execution_count": null,
   "id": "eecd1e3c",
   "metadata": {},
   "outputs": [],
   "source": [
    "x = df.drop(\"satisfaction\", axis=1)\n",
    "y = df[\"satisfaction\"]\n",
    "x_train, x_test, y_train, y_test = train_test_split(x, y, test_size=0.2, random_state=42)"
   ]
  },
  {
   "cell_type": "code",
   "execution_count": null,
   "id": "0e948466",
   "metadata": {},
   "outputs": [],
   "source": [
    "rf_model = RandomForestClassifier(n_estimators=100, random_state=42)\n",
    "rf_model.fit(x_train, y_train)"
   ]
  },
  {
   "cell_type": "code",
   "execution_count": null,
   "id": "73714fd0",
   "metadata": {},
   "outputs": [],
   "source": [
    "y_pred = rf_model.predict(x_test)\n",
    "accuracy = accuracy_score(y_test, y_pred)\n",
    "print(\"Accuracy:\",accuracy)"
   ]
  }
 ],
 "metadata": {
  "kernelspec": {
   "display_name": "Python 3",
   "language": "python",
   "name": "python3"
  },
  "language_info": {
   "codemirror_mode": {
    "name": "ipython",
    "version": 3
   },
   "file_extension": ".py",
   "mimetype": "text/x-python",
   "name": "python",
   "nbconvert_exporter": "python",
   "pygments_lexer": "ipython3",
   "version": "3.11.5"
  }
 },
 "nbformat": 4,
 "nbformat_minor": 5
}
